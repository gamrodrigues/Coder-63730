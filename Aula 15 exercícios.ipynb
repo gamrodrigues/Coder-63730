{
 "cells": [
  {
   "cell_type": "markdown",
   "metadata": {},
   "source": [
    "Mao na massa"
   ]
  },
  {
   "cell_type": "code",
   "execution_count": null,
   "metadata": {},
   "outputs": [],
   "source": [
    "import pandas as pd"
   ]
  },
  {
   "cell_type": "code",
   "execution_count": null,
   "metadata": {},
   "outputs": [],
   "source": [
    "casas=pd.read_csv('realtor-data.zip.csv')\n",
    "casas.info()"
   ]
  },
  {
   "cell_type": "code",
   "execution_count": null,
   "metadata": {},
   "outputs": [],
   "source": [
    "casas.head()"
   ]
  },
  {
   "cell_type": "code",
   "execution_count": null,
   "metadata": {},
   "outputs": [],
   "source": [
    "casas.acre_lot=casas.acre_lot.replace(0,-1)"
   ]
  },
  {
   "cell_type": "code",
   "execution_count": null,
   "metadata": {},
   "outputs": [],
   "source": [
    "tabela=casas.groupby(['city','state'])['house_size'].agg(['max', 'min', 'mean', 'size','count']).rename({'max':'hs_max', 'min':'hs_min', 'mean':'hs_mean'}, axis=1)\n",
    "tabela=pd.concat([tabela,casas.groupby(['city','state'])['price'].agg(['max'])], axis=1)\n",
    "tabela=pd.concat([tabela,casas.groupby(['city','state'])['acre_lot'].agg(['min'])], axis=1)\n",
    "tabela"
   ]
  },
  {
   "cell_type": "code",
   "execution_count": null,
   "metadata": {},
   "outputs": [],
   "source": [
    "tabela['hs_missing']=(tabela['size']-tabela['count'])/tabela['size']\n",
    "tabela['rz_price_acre_lot']=(tabela['max']/tabela['min'])\n",
    "tabela.drop(['size','count','max', 'min'], axis=1)"
   ]
  },
  {
   "cell_type": "code",
   "execution_count": null,
   "metadata": {},
   "outputs": [],
   "source": []
  }
 ],
 "metadata": {
  "kernelspec": {
   "display_name": "base",
   "language": "python",
   "name": "python3"
  },
  "language_info": {
   "codemirror_mode": {
    "name": "ipython",
    "version": 3
   },
   "file_extension": ".py",
   "mimetype": "text/x-python",
   "name": "python",
   "nbconvert_exporter": "python",
   "pygments_lexer": "ipython3",
   "version": "3.11.7"
  }
 },
 "nbformat": 4,
 "nbformat_minor": 2
}
