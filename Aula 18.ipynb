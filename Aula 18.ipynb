{
 "cells": [
  {
   "cell_type": "code",
   "execution_count": 31,
   "metadata": {},
   "outputs": [
    {
     "name": "stdout",
     "output_type": "stream",
     "text": [
      "Collecting pyspark\n",
      "  Downloading pyspark-3.5.2.tar.gz (317.3 MB)\n",
      "     ---------------------------------------- 0.0/317.3 MB ? eta -:--:--\n",
      "      -------------------------------------- 4.2/317.3 MB 28.1 MB/s eta 0:00:12\n",
      "     - ------------------------------------ 10.7/317.3 MB 30.6 MB/s eta 0:00:11\n",
      "     -- ----------------------------------- 20.2/317.3 MB 35.5 MB/s eta 0:00:09\n",
      "     ---- --------------------------------- 35.7/317.3 MB 45.3 MB/s eta 0:00:07\n",
      "     ----- -------------------------------- 44.6/317.3 MB 45.0 MB/s eta 0:00:07\n",
      "     ------ ------------------------------- 56.9/317.3 MB 47.1 MB/s eta 0:00:06\n",
      "     -------- ----------------------------- 69.5/317.3 MB 49.2 MB/s eta 0:00:06\n",
      "     --------- ---------------------------- 81.0/317.3 MB 49.7 MB/s eta 0:00:05\n",
      "     ----------- -------------------------- 94.6/317.3 MB 51.6 MB/s eta 0:00:05\n",
      "     ------------ ------------------------ 106.2/317.3 MB 52.1 MB/s eta 0:00:05\n",
      "     ------------- ----------------------- 116.7/317.3 MB 51.7 MB/s eta 0:00:04\n",
      "     -------------- ---------------------- 125.3/317.3 MB 51.0 MB/s eta 0:00:04\n",
      "     --------------- --------------------- 135.3/317.3 MB 50.5 MB/s eta 0:00:04\n",
      "     ----------------- ------------------- 146.0/317.3 MB 50.7 MB/s eta 0:00:04\n",
      "     ------------------ ------------------ 157.0/317.3 MB 50.7 MB/s eta 0:00:04\n",
      "     ------------------- ----------------- 167.8/317.3 MB 50.8 MB/s eta 0:00:03\n",
      "     -------------------- ---------------- 173.8/317.3 MB 49.6 MB/s eta 0:00:03\n",
      "     --------------------- --------------- 180.9/317.3 MB 48.4 MB/s eta 0:00:03\n",
      "     ---------------------- -------------- 188.7/317.3 MB 47.9 MB/s eta 0:00:03\n",
      "     ---------------------- -------------- 195.8/317.3 MB 47.1 MB/s eta 0:00:03\n",
      "     ----------------------- ------------- 202.9/317.3 MB 46.5 MB/s eta 0:00:03\n",
      "     ------------------------ ------------ 211.0/317.3 MB 46.2 MB/s eta 0:00:03\n",
      "     ------------------------- ----------- 217.8/317.3 MB 45.5 MB/s eta 0:00:03\n",
      "     -------------------------- ---------- 223.9/317.3 MB 44.7 MB/s eta 0:00:03\n",
      "     --------------------------- --------- 232.0/317.3 MB 44.5 MB/s eta 0:00:02\n",
      "     --------------------------- --------- 239.3/317.3 MB 44.1 MB/s eta 0:00:02\n",
      "     ---------------------------- -------- 245.6/317.3 MB 43.5 MB/s eta 0:00:02\n",
      "     ----------------------------- ------- 251.7/317.3 MB 43.0 MB/s eta 0:00:02\n",
      "     ------------------------------ ------ 257.9/317.3 MB 42.6 MB/s eta 0:00:02\n",
      "     ------------------------------ ------ 264.2/317.3 MB 42.4 MB/s eta 0:00:02\n",
      "     ------------------------------- ----- 270.0/317.3 MB 42.0 MB/s eta 0:00:02\n",
      "     -------------------------------- ---- 276.0/317.3 MB 42.0 MB/s eta 0:00:01\n",
      "     -------------------------------- ---- 282.1/317.3 MB 41.4 MB/s eta 0:00:01\n",
      "     --------------------------------- --- 288.1/317.3 MB 40.7 MB/s eta 0:00:01\n",
      "     ---------------------------------- -- 294.4/317.3 MB 40.0 MB/s eta 0:00:01\n",
      "     ----------------------------------- - 300.4/317.3 MB 39.1 MB/s eta 0:00:01\n",
      "     ----------------------------------- - 306.7/317.3 MB 38.9 MB/s eta 0:00:01\n",
      "     ------------------------------------  313.3/317.3 MB 38.2 MB/s eta 0:00:01\n",
      "     ------------------------------------  317.2/317.3 MB 38.1 MB/s eta 0:00:01\n",
      "     ------------------------------------  317.2/317.3 MB 38.1 MB/s eta 0:00:01\n",
      "     ------------------------------------- 317.3/317.3 MB 36.3 MB/s eta 0:00:00\n",
      "  Preparing metadata (setup.py): started\n",
      "  Preparing metadata (setup.py): finished with status 'done'\n",
      "Requirement already satisfied: py4j==0.10.9.7 in c:\\users\\gabriel\\anaconda3\\lib\\site-packages (from pyspark) (0.10.9.7)\n",
      "Building wheels for collected packages: pyspark\n",
      "  Building wheel for pyspark (setup.py): started\n",
      "  Building wheel for pyspark (setup.py): finished with status 'done'\n",
      "  Created wheel for pyspark: filename=pyspark-3.5.2-py2.py3-none-any.whl size=317812407 sha256=0b97131eae6b81350b8720b51c6dd4b60346b329827ccf8625cfb62244b29d01\n",
      "  Stored in directory: c:\\users\\gabriel\\appdata\\local\\pip\\cache\\wheels\\9d\\29\\ee\\3a756632ca3f0a6870933bac1c9db6e4af2c068f019aba0ee1\n",
      "Successfully built pyspark\n",
      "Installing collected packages: pyspark\n",
      "Note: you may need to restart the kernel to use updated packages.\n"
     ]
    },
    {
     "name": "stderr",
     "output_type": "stream",
     "text": [
      "WARNING: Ignoring invalid distribution ~yspark (c:\\Users\\Gabriel\\anaconda3\\Lib\\site-packages)\n",
      "WARNING: Ignoring invalid distribution ~yspark (c:\\Users\\Gabriel\\anaconda3\\Lib\\site-packages)\n",
      "ERROR: Could not install packages due to an OSError: [WinError 32] O arquivo já está sendo usado por outro processo: 'c:\\\\Users\\\\Gabriel\\\\anaconda3\\\\Lib\\\\site-packages\\\\pyspark\\\\jars\\\\HikariCP-2.5.1.jar'\n",
      "Consider using the `--user` option or check the permissions.\n",
      "\n"
     ]
    }
   ],
   "source": [
    "pip install pyspark"
   ]
  },
  {
   "cell_type": "code",
   "execution_count": 1,
   "metadata": {},
   "outputs": [],
   "source": [
    "from pyspark.sql import SparkSession\n",
    "import pyspark as ps"
   ]
  },
  {
   "cell_type": "code",
   "execution_count": 2,
   "metadata": {},
   "outputs": [
    {
     "data": {
      "text/plain": [
       "<pyspark.conf.SparkConf at 0x2176e6655d0>"
      ]
     },
     "execution_count": 2,
     "metadata": {},
     "output_type": "execute_result"
    }
   ],
   "source": [
    "#abrindo sessão\n",
    "spark=(SparkSession\n",
    "       .builder\n",
    "       .appName(\"Python Spark SQL basic example\") \n",
    "        .config(\"spark.some.config.option\", \"some-value\") \n",
    "        .getOrCreate())\n",
    "conf = ps.SparkConf().setMaster(\"yarn-client\").setAppName(\"sparK-mer\")\n",
    "conf.set(\"spark.executor.heartbeatInterval\",\"3600s\")"
   ]
  },
  {
   "cell_type": "markdown",
   "metadata": {},
   "source": [
    "Leitura e conversão"
   ]
  },
  {
   "cell_type": "code",
   "execution_count": 3,
   "metadata": {},
   "outputs": [
    {
     "data": {
      "text/plain": [
       "DataFrame[_c0: string, abilities_number: string, ability_1: string, ability_2: string, ability_hidden: string, attack: string, base_experience: string, base_friendship: string, catch_rate: string, defense: string, egg_cycles: string, egg_type_1: string, egg_type_2: string, egg_type_number: string, generation: string, growth_rate: string, height_m: string, hp: string, is_legendary: string, is_mythical: string, is_sub_legendary: string, name: string, percentage_male: string, pokedex_number: string, sp_attack: string, sp_defense: string, species: string, speed: string, total_points: string, type_1: string, type_2: string, type_number: string, weight_kg: string]"
      ]
     },
     "execution_count": 3,
     "metadata": {},
     "output_type": "execute_result"
    }
   ],
   "source": [
    "#leitura\n",
    "pokemon_spark = (spark.read.format(\"csv\")\n",
    "      .option(\"header\",\"true\")\n",
    "      .load(\"Dataset - Pokemon.csv\"))\n",
    "pokemon_spark"
   ]
  },
  {
   "cell_type": "code",
   "execution_count": 4,
   "metadata": {},
   "outputs": [
    {
     "name": "stdout",
     "output_type": "stream",
     "text": [
      "root\n",
      " |-- _c0: string (nullable = true)\n",
      " |-- abilities_number: string (nullable = true)\n",
      " |-- ability_1: string (nullable = true)\n",
      " |-- ability_2: string (nullable = true)\n",
      " |-- ability_hidden: string (nullable = true)\n",
      " |-- attack: string (nullable = true)\n",
      " |-- base_experience: string (nullable = true)\n",
      " |-- base_friendship: string (nullable = true)\n",
      " |-- catch_rate: string (nullable = true)\n",
      " |-- defense: string (nullable = true)\n",
      " |-- egg_cycles: string (nullable = true)\n",
      " |-- egg_type_1: string (nullable = true)\n",
      " |-- egg_type_2: string (nullable = true)\n",
      " |-- egg_type_number: string (nullable = true)\n",
      " |-- generation: string (nullable = true)\n",
      " |-- growth_rate: string (nullable = true)\n",
      " |-- height_m: string (nullable = true)\n",
      " |-- hp: string (nullable = true)\n",
      " |-- is_legendary: string (nullable = true)\n",
      " |-- is_mythical: string (nullable = true)\n",
      " |-- is_sub_legendary: string (nullable = true)\n",
      " |-- name: string (nullable = true)\n",
      " |-- percentage_male: string (nullable = true)\n",
      " |-- pokedex_number: string (nullable = true)\n",
      " |-- sp_attack: string (nullable = true)\n",
      " |-- sp_defense: string (nullable = true)\n",
      " |-- species: string (nullable = true)\n",
      " |-- speed: string (nullable = true)\n",
      " |-- total_points: string (nullable = true)\n",
      " |-- type_1: string (nullable = true)\n",
      " |-- type_2: string (nullable = true)\n",
      " |-- type_number: string (nullable = true)\n",
      " |-- weight_kg: string (nullable = true)\n",
      "\n"
     ]
    }
   ],
   "source": [
    "pokemon_spark.printSchema()"
   ]
  },
  {
   "cell_type": "code",
   "execution_count": 6,
   "metadata": {},
   "outputs": [
    {
     "name": "stdout",
     "output_type": "stream",
     "text": [
      "+---+----------------+-----------+---------+--------------+------+---------------+---------------+----------+-------+----------+----------+----------+---------------+----------+-----------+--------+----+------------+-----------+----------------+----------------+---------------+--------------+---------+----------+-------------------+-----+------------+------+------+-----------+---------+\n",
      "|_c0|abilities_number|  ability_1|ability_2|ability_hidden|attack|base_experience|base_friendship|catch_rate|defense|egg_cycles|egg_type_1|egg_type_2|egg_type_number|generation|growth_rate|height_m|  hp|is_legendary|is_mythical|is_sub_legendary|            name|percentage_male|pokedex_number|sp_attack|sp_defense|            species|speed|total_points|type_1|type_2|type_number|weight_kg|\n",
      "+---+----------------+-----------+---------+--------------+------+---------------+---------------+----------+-------+----------+----------+----------+---------------+----------+-----------+--------+----+------------+-----------+----------------+----------------+---------------+--------------+---------+----------+-------------------+-----+------------+------+------+-----------+---------+\n",
      "|  0|               2|   Overgrow|     NULL|   Chlorophyll|  49.0|           64.0|           70.0|      45.0|   49.0|      20.0|     Grass|   Monster|              2|         1|Medium Slow|     0.7|45.0|           0|          0|               0|       Bulbasaur|           87.5|             1|     65.0|      65.0|       Seed Pokémon| 45.0|       318.0| Grass|Poison|          2|      6.9|\n",
      "|  1|               2|   Overgrow|     NULL|   Chlorophyll|  62.0|          142.0|           70.0|      45.0|   63.0|      20.0|     Grass|   Monster|              2|         1|Medium Slow|     1.0|60.0|           0|          0|               0|         Ivysaur|           87.5|             2|     80.0|      80.0|       Seed Pokémon| 60.0|       405.0| Grass|Poison|          2|     13.0|\n",
      "|  2|               2|   Overgrow|     NULL|   Chlorophyll|  82.0|          236.0|           70.0|      45.0|   83.0|      20.0|     Grass|   Monster|              2|         1|Medium Slow|     2.0|80.0|           0|          0|               0|        Venusaur|           87.5|             3|    100.0|     100.0|       Seed Pokémon| 80.0|       525.0| Grass|Poison|          2|    100.0|\n",
      "|  3|               1|  Thick Fat|     NULL|          NULL| 100.0|          281.0|           70.0|      45.0|  123.0|      20.0|     Grass|   Monster|              2|         1|Medium Slow|     2.4|80.0|           0|          0|               0|   Mega Venusaur|           87.5|             3|    122.0|     120.0|       Seed Pokémon| 80.0|       625.0| Grass|Poison|          2|    155.5|\n",
      "|  4|               2|      Blaze|     NULL|   Solar Power|  52.0|           62.0|           70.0|      45.0|   43.0|      20.0|    Dragon|   Monster|              2|         1|Medium Slow|     0.6|39.0|           0|          0|               0|      Charmander|           87.5|             4|     60.0|      50.0|     Lizard Pokémon| 65.0|       309.0|  Fire|  NULL|          1|      8.5|\n",
      "|  5|               2|      Blaze|     NULL|   Solar Power|  64.0|          142.0|           70.0|      45.0|   58.0|      20.0|    Dragon|   Monster|              2|         1|Medium Slow|     1.1|58.0|           0|          0|               0|      Charmeleon|           87.5|             5|     80.0|      65.0|      Flame Pokémon| 80.0|       405.0|  Fire|  NULL|          1|     19.0|\n",
      "|  6|               2|      Blaze|     NULL|   Solar Power|  84.0|          240.0|           70.0|      45.0|   78.0|      20.0|    Dragon|   Monster|              2|         1|Medium Slow|     1.7|78.0|           0|          0|               0|       Charizard|           87.5|             6|    109.0|      85.0|      Flame Pokémon|100.0|       534.0|  Fire|Flying|          2|     90.5|\n",
      "|  7|               1|Tough Claws|     NULL|          NULL| 130.0|          285.0|           70.0|      45.0|  111.0|      20.0|    Dragon|   Monster|              2|         1|Medium Slow|     1.7|78.0|           0|          0|               0|Mega Charizard X|           87.5|             6|    130.0|      85.0|      Flame Pokémon|100.0|       634.0|  Fire|Dragon|          2|    110.5|\n",
      "|  8|               1|    Drought|     NULL|          NULL| 104.0|          285.0|           70.0|      45.0|   78.0|      20.0|    Dragon|   Monster|              2|         1|Medium Slow|     1.7|78.0|           0|          0|               0|Mega Charizard Y|           87.5|             6|    159.0|     115.0|      Flame Pokémon|100.0|       634.0|  Fire|Flying|          2|    100.5|\n",
      "|  9|               2|    Torrent|     NULL|     Rain Dish|  48.0|           63.0|           70.0|      45.0|   65.0|      20.0|   Monster|   Water 1|              2|         1|Medium Slow|     0.5|44.0|           0|          0|               0|        Squirtle|           87.5|             7|     50.0|      64.0|Tiny Turtle Pokémon| 43.0|       314.0| Water|  NULL|          1|      9.0|\n",
      "+---+----------------+-----------+---------+--------------+------+---------------+---------------+----------+-------+----------+----------+----------+---------------+----------+-----------+--------+----+------------+-----------+----------------+----------------+---------------+--------------+---------+----------+-------------------+-----+------------+------+------+-----------+---------+\n",
      "only showing top 10 rows\n",
      "\n"
     ]
    }
   ],
   "source": [
    "pokemon_spark.show(10)"
   ]
  },
  {
   "cell_type": "code",
   "execution_count": 8,
   "metadata": {},
   "outputs": [
    {
     "name": "stdout",
     "output_type": "stream",
     "text": [
      "<class 'pyspark.sql.dataframe.DataFrame'>\n",
      "<class 'pandas.core.frame.DataFrame'>\n"
     ]
    },
    {
     "data": {
      "text/html": [
       "<div>\n",
       "<style scoped>\n",
       "    .dataframe tbody tr th:only-of-type {\n",
       "        vertical-align: middle;\n",
       "    }\n",
       "\n",
       "    .dataframe tbody tr th {\n",
       "        vertical-align: top;\n",
       "    }\n",
       "\n",
       "    .dataframe thead th {\n",
       "        text-align: right;\n",
       "    }\n",
       "</style>\n",
       "<table border=\"1\" class=\"dataframe\">\n",
       "  <thead>\n",
       "    <tr style=\"text-align: right;\">\n",
       "      <th></th>\n",
       "      <th>_c0</th>\n",
       "      <th>abilities_number</th>\n",
       "      <th>ability_1</th>\n",
       "      <th>ability_2</th>\n",
       "      <th>ability_hidden</th>\n",
       "      <th>attack</th>\n",
       "      <th>base_experience</th>\n",
       "      <th>base_friendship</th>\n",
       "      <th>catch_rate</th>\n",
       "      <th>defense</th>\n",
       "      <th>...</th>\n",
       "      <th>pokedex_number</th>\n",
       "      <th>sp_attack</th>\n",
       "      <th>sp_defense</th>\n",
       "      <th>species</th>\n",
       "      <th>speed</th>\n",
       "      <th>total_points</th>\n",
       "      <th>type_1</th>\n",
       "      <th>type_2</th>\n",
       "      <th>type_number</th>\n",
       "      <th>weight_kg</th>\n",
       "    </tr>\n",
       "  </thead>\n",
       "  <tbody>\n",
       "    <tr>\n",
       "      <th>0</th>\n",
       "      <td>0</td>\n",
       "      <td>2</td>\n",
       "      <td>Overgrow</td>\n",
       "      <td>None</td>\n",
       "      <td>Chlorophyll</td>\n",
       "      <td>49.0</td>\n",
       "      <td>64.0</td>\n",
       "      <td>70.0</td>\n",
       "      <td>45.0</td>\n",
       "      <td>49.0</td>\n",
       "      <td>...</td>\n",
       "      <td>1</td>\n",
       "      <td>65.0</td>\n",
       "      <td>65.0</td>\n",
       "      <td>Seed Pokémon</td>\n",
       "      <td>45.0</td>\n",
       "      <td>318.0</td>\n",
       "      <td>Grass</td>\n",
       "      <td>Poison</td>\n",
       "      <td>2</td>\n",
       "      <td>6.9</td>\n",
       "    </tr>\n",
       "    <tr>\n",
       "      <th>1</th>\n",
       "      <td>1</td>\n",
       "      <td>2</td>\n",
       "      <td>Overgrow</td>\n",
       "      <td>None</td>\n",
       "      <td>Chlorophyll</td>\n",
       "      <td>62.0</td>\n",
       "      <td>142.0</td>\n",
       "      <td>70.0</td>\n",
       "      <td>45.0</td>\n",
       "      <td>63.0</td>\n",
       "      <td>...</td>\n",
       "      <td>2</td>\n",
       "      <td>80.0</td>\n",
       "      <td>80.0</td>\n",
       "      <td>Seed Pokémon</td>\n",
       "      <td>60.0</td>\n",
       "      <td>405.0</td>\n",
       "      <td>Grass</td>\n",
       "      <td>Poison</td>\n",
       "      <td>2</td>\n",
       "      <td>13.0</td>\n",
       "    </tr>\n",
       "  </tbody>\n",
       "</table>\n",
       "<p>2 rows × 33 columns</p>\n",
       "</div>"
      ],
      "text/plain": [
       "  _c0 abilities_number ability_1 ability_2 ability_hidden attack  \\\n",
       "0   0                2  Overgrow      None    Chlorophyll   49.0   \n",
       "1   1                2  Overgrow      None    Chlorophyll   62.0   \n",
       "\n",
       "  base_experience base_friendship catch_rate defense  ... pokedex_number  \\\n",
       "0            64.0            70.0       45.0    49.0  ...              1   \n",
       "1           142.0            70.0       45.0    63.0  ...              2   \n",
       "\n",
       "  sp_attack sp_defense       species speed total_points type_1  type_2  \\\n",
       "0      65.0       65.0  Seed Pokémon  45.0        318.0  Grass  Poison   \n",
       "1      80.0       80.0  Seed Pokémon  60.0        405.0  Grass  Poison   \n",
       "\n",
       "  type_number weight_kg  \n",
       "0           2       6.9  \n",
       "1           2      13.0  \n",
       "\n",
       "[2 rows x 33 columns]"
      ]
     },
     "execution_count": 8,
     "metadata": {},
     "output_type": "execute_result"
    }
   ],
   "source": [
    "#spark -> pandas\n",
    "print(type(pokemon_spark))\n",
    "pokemon_pd = pokemon_spark.toPandas()\n",
    "print(type(pokemon_pd))\n",
    "pokemon_pd.head(2)"
   ]
  },
  {
   "cell_type": "code",
   "execution_count": 9,
   "metadata": {},
   "outputs": [
    {
     "name": "stdout",
     "output_type": "stream",
     "text": [
      "<class 'pyspark.sql.dataframe.DataFrame'>\n"
     ]
    }
   ],
   "source": [
    "#pandas -> spark\n",
    "pokemon_spark_2=spark.createDataFrame(pokemon_pd)\n",
    "print(type(pokemon_spark_2))\n"
   ]
  },
  {
   "cell_type": "markdown",
   "metadata": {},
   "source": [
    "Operações"
   ]
  },
  {
   "cell_type": "code",
   "execution_count": 13,
   "metadata": {},
   "outputs": [
    {
     "name": "stdout",
     "output_type": "stream",
     "text": [
      "+---+----------------+-------------+------------+--------------+------+---------------+---------------+----------+-------+----------+----------+----------+---------------+----------+-----------+--------+----+------------+-----------+----------------+----------------+---------------+--------------+---------+----------+-------------------+-----+------------+------+------+-----------+---------+\n",
      "|_c0|abilities_number|    ability_1|   ability_2|ability_hidden|attack|base_experience|base_friendship|catch_rate|defense|egg_cycles|egg_type_1|egg_type_2|egg_type_number|generation|growth_rate|height_m|  hp|is_legendary|is_mythical|is_sub_legendary|            name|percentage_male|pokedex_number|sp_attack|sp_defense|            species|speed|total_points|type_1|type_2|type_number|weight_kg|\n",
      "+---+----------------+-------------+------------+--------------+------+---------------+---------------+----------+-------+----------+----------+----------+---------------+----------+-----------+--------+----+------------+-----------+----------------+----------------+---------------+--------------+---------+----------+-------------------+-----+------------+------+------+-----------+---------+\n",
      "|  0|               2|     Overgrow|        NULL|   Chlorophyll|  49.0|           64.0|           70.0|      45.0|   49.0|      20.0|     Grass|   Monster|              2|         1|Medium Slow|     0.7|45.0|           0|          0|               0|       Bulbasaur|           87.5|             1|     65.0|      65.0|       Seed Pokémon| 45.0|       318.0| Grass|Poison|          2|      6.9|\n",
      "|  1|               2|     Overgrow|        NULL|   Chlorophyll|  62.0|          142.0|           70.0|      45.0|   63.0|      20.0|     Grass|   Monster|              2|         1|Medium Slow|     1.0|60.0|           0|          0|               0|         Ivysaur|           87.5|             2|     80.0|      80.0|       Seed Pokémon| 60.0|       405.0| Grass|Poison|          2|     13.0|\n",
      "|  2|               2|     Overgrow|        NULL|   Chlorophyll|  82.0|          236.0|           70.0|      45.0|   83.0|      20.0|     Grass|   Monster|              2|         1|Medium Slow|     2.0|80.0|           0|          0|               0|        Venusaur|           87.5|             3|    100.0|     100.0|       Seed Pokémon| 80.0|       525.0| Grass|Poison|          2|    100.0|\n",
      "|  3|               1|    Thick Fat|        NULL|          NULL| 100.0|          281.0|           70.0|      45.0|  123.0|      20.0|     Grass|   Monster|              2|         1|Medium Slow|     2.4|80.0|           0|          0|               0|   Mega Venusaur|           87.5|             3|    122.0|     120.0|       Seed Pokémon| 80.0|       625.0| Grass|Poison|          2|    155.5|\n",
      "|  4|               2|        Blaze|        NULL|   Solar Power|  52.0|           62.0|           70.0|      45.0|   43.0|      20.0|    Dragon|   Monster|              2|         1|Medium Slow|     0.6|39.0|           0|          0|               0|      Charmander|           87.5|             4|     60.0|      50.0|     Lizard Pokémon| 65.0|       309.0|  Fire|  NULL|          1|      8.5|\n",
      "|  5|               2|        Blaze|        NULL|   Solar Power|  64.0|          142.0|           70.0|      45.0|   58.0|      20.0|    Dragon|   Monster|              2|         1|Medium Slow|     1.1|58.0|           0|          0|               0|      Charmeleon|           87.5|             5|     80.0|      65.0|      Flame Pokémon| 80.0|       405.0|  Fire|  NULL|          1|     19.0|\n",
      "|  6|               2|        Blaze|        NULL|   Solar Power|  84.0|          240.0|           70.0|      45.0|   78.0|      20.0|    Dragon|   Monster|              2|         1|Medium Slow|     1.7|78.0|           0|          0|               0|       Charizard|           87.5|             6|    109.0|      85.0|      Flame Pokémon|100.0|       534.0|  Fire|Flying|          2|     90.5|\n",
      "|  7|               1|  Tough Claws|        NULL|          NULL| 130.0|          285.0|           70.0|      45.0|  111.0|      20.0|    Dragon|   Monster|              2|         1|Medium Slow|     1.7|78.0|           0|          0|               0|Mega Charizard X|           87.5|             6|    130.0|      85.0|      Flame Pokémon|100.0|       634.0|  Fire|Dragon|          2|    110.5|\n",
      "|  8|               1|      Drought|        NULL|          NULL| 104.0|          285.0|           70.0|      45.0|   78.0|      20.0|    Dragon|   Monster|              2|         1|Medium Slow|     1.7|78.0|           0|          0|               0|Mega Charizard Y|           87.5|             6|    159.0|     115.0|      Flame Pokémon|100.0|       634.0|  Fire|Flying|          2|    100.5|\n",
      "|  9|               2|      Torrent|        NULL|     Rain Dish|  48.0|           63.0|           70.0|      45.0|   65.0|      20.0|   Monster|   Water 1|              2|         1|Medium Slow|     0.5|44.0|           0|          0|               0|        Squirtle|           87.5|             7|     50.0|      64.0|Tiny Turtle Pokémon| 43.0|       314.0| Water|  NULL|          1|      9.0|\n",
      "| 10|               2|      Torrent|        NULL|     Rain Dish|  63.0|          142.0|           70.0|      45.0|   80.0|      20.0|   Monster|   Water 1|              2|         1|Medium Slow|     1.0|59.0|           0|          0|               0|       Wartortle|           87.5|             8|     65.0|      80.0|     Turtle Pokémon| 58.0|       405.0| Water|  NULL|          1|     22.5|\n",
      "| 11|               2|      Torrent|        NULL|     Rain Dish|  83.0|          239.0|           70.0|      45.0|  100.0|      20.0|   Monster|   Water 1|              2|         1|Medium Slow|     1.6|79.0|           0|          0|               0|       Blastoise|           87.5|             9|     85.0|     105.0|  Shellfish Pokémon| 78.0|       530.0| Water|  NULL|          1|     85.5|\n",
      "| 12|               1|Mega Launcher|        NULL|          NULL| 103.0|          284.0|           70.0|      45.0|  120.0|      20.0|   Monster|   Water 1|              2|         1|Medium Slow|     1.6|79.0|           0|          0|               0|  Mega Blastoise|           87.5|             9|    135.0|     115.0|  Shellfish Pokémon| 78.0|       630.0| Water|  NULL|          1|    101.1|\n",
      "| 13|               2|  Shield Dust|        NULL|      Run Away|  30.0|           39.0|           70.0|     255.0|   35.0|      15.0|       Bug|      NULL|              1|         1|Medium Fast|     0.3|45.0|           0|          0|               0|        Caterpie|           50.0|            10|     20.0|      20.0|       Worm Pokémon| 45.0|       195.0|   Bug|  NULL|          1|      2.9|\n",
      "| 14|               1|    Shed Skin|        NULL|          NULL|  20.0|           72.0|           70.0|     120.0|   55.0|      15.0|       Bug|      NULL|              1|         1|Medium Fast|     0.7|50.0|           0|          0|               0|         Metapod|           50.0|            11|     25.0|      25.0|     Cocoon Pokémon| 30.0|       205.0|   Bug|  NULL|          1|      9.9|\n",
      "| 15|               2|Compound Eyes|        NULL|   Tinted Lens|  45.0|          178.0|           70.0|      45.0|   50.0|      15.0|       Bug|      NULL|              1|         1|Medium Fast|     1.1|60.0|           0|          0|               0|      Butterfree|           50.0|            12|     90.0|      80.0|  Butterfly Pokémon| 70.0|       395.0|   Bug|Flying|          2|     32.0|\n",
      "| 16|               2|  Shield Dust|        NULL|      Run Away|  35.0|           39.0|           70.0|     255.0|   30.0|      15.0|       Bug|      NULL|              1|         1|Medium Fast|     0.3|40.0|           0|          0|               0|          Weedle|           50.0|            13|     20.0|      20.0|  Hairy Bug Pokémon| 50.0|       195.0|   Bug|Poison|          2|      3.2|\n",
      "| 17|               1|    Shed Skin|        NULL|          NULL|  25.0|           72.0|           70.0|     120.0|   50.0|      15.0|       Bug|      NULL|              1|         1|Medium Fast|     0.6|45.0|           0|          0|               0|          Kakuna|           50.0|            14|     25.0|      25.0|     Cocoon Pokémon| 35.0|       205.0|   Bug|Poison|          2|     10.0|\n",
      "| 18|               2|        Swarm|        NULL|        Sniper|  90.0|          178.0|           70.0|      45.0|   40.0|      15.0|       Bug|      NULL|              1|         1|Medium Fast|     1.0|65.0|           0|          0|               0|        Beedrill|           50.0|            15|     45.0|      80.0| Poison Bee Pokémon| 75.0|       395.0|   Bug|Poison|          2|     29.5|\n",
      "| 19|               1| Adaptability|        NULL|          NULL| 150.0|          223.0|           70.0|      45.0|   40.0|      15.0|       Bug|      NULL|              1|         1|Medium Fast|     1.4|65.0|           0|          0|               0|   Mega Beedrill|           50.0|            15|     15.0|      80.0| Poison Bee Pokémon|145.0|       495.0|   Bug|Poison|          2|     40.5|\n",
      "| 20|               3|     Keen Eye|Tangled Feet|     Big Pecks|  45.0|           50.0|           70.0|     255.0|   40.0|      15.0|    Flying|      NULL|              1|         1|Medium Slow|     0.3|40.0|           0|          0|               0|          Pidgey|           50.0|            16|     35.0|      35.0|  Tiny Bird Pokémon| 56.0|       251.0|Normal|Flying|          2|      1.8|\n",
      "| 21|               3|     Keen Eye|Tangled Feet|     Big Pecks|  60.0|          122.0|           70.0|     120.0|   55.0|      15.0|    Flying|      NULL|              1|         1|Medium Slow|     1.1|63.0|           0|          0|               0|       Pidgeotto|           50.0|            17|     50.0|      50.0|       Bird Pokémon| 71.0|       349.0|Normal|Flying|          2|     30.0|\n",
      "| 22|               3|     Keen Eye|Tangled Feet|     Big Pecks|  80.0|          216.0|           70.0|      45.0|   75.0|      15.0|    Flying|      NULL|              1|         1|Medium Slow|     1.5|83.0|           0|          0|               0|         Pidgeot|           50.0|            18|     70.0|      70.0|       Bird Pokémon|101.0|       479.0|Normal|Flying|          2|     39.5|\n",
      "+---+----------------+-------------+------------+--------------+------+---------------+---------------+----------+-------+----------+----------+----------+---------------+----------+-----------+--------+----+------------+-----------+----------------+----------------+---------------+--------------+---------+----------+-------------------+-----+------------+------+------+-----------+---------+\n",
      "only showing top 23 rows\n",
      "\n"
     ]
    }
   ],
   "source": [
    "pokemon_spark.show(23)"
   ]
  },
  {
   "cell_type": "code",
   "execution_count": 14,
   "metadata": {},
   "outputs": [
    {
     "name": "stdout",
     "output_type": "stream",
     "text": [
      "+----------------+-------------+---------+--------------+------+---------------+---------------+----------+-------+----------+----------+----------+----------+-----------+--------+----+------------+-----------+----------------+----------------+---------------+--------------+---------+----------+-------------------+-----+------------+------+------+---------+\n",
      "|abilities_number|    ability_1|ability_2|ability_hidden|attack|base_experience|base_friendship|catch_rate|defense|egg_cycles|egg_type_1|egg_type_2|generation|growth_rate|height_m|  hp|is_legendary|is_mythical|is_sub_legendary|            name|percentage_male|pokedex_number|sp_attack|sp_defense|            species|speed|total_points|type_1|type_2|weight_kg|\n",
      "+----------------+-------------+---------+--------------+------+---------------+---------------+----------+-------+----------+----------+----------+----------+-----------+--------+----+------------+-----------+----------------+----------------+---------------+--------------+---------+----------+-------------------+-----+------------+------+------+---------+\n",
      "|               2|     Overgrow|     NULL|   Chlorophyll|  49.0|           64.0|           70.0|      45.0|   49.0|      20.0|     Grass|   Monster|         1|Medium Slow|     0.7|45.0|           0|          0|               0|       Bulbasaur|           87.5|             1|     65.0|      65.0|       Seed Pokémon| 45.0|       318.0| Grass|Poison|      6.9|\n",
      "|               2|     Overgrow|     NULL|   Chlorophyll|  62.0|          142.0|           70.0|      45.0|   63.0|      20.0|     Grass|   Monster|         1|Medium Slow|     1.0|60.0|           0|          0|               0|         Ivysaur|           87.5|             2|     80.0|      80.0|       Seed Pokémon| 60.0|       405.0| Grass|Poison|     13.0|\n",
      "|               2|     Overgrow|     NULL|   Chlorophyll|  82.0|          236.0|           70.0|      45.0|   83.0|      20.0|     Grass|   Monster|         1|Medium Slow|     2.0|80.0|           0|          0|               0|        Venusaur|           87.5|             3|    100.0|     100.0|       Seed Pokémon| 80.0|       525.0| Grass|Poison|    100.0|\n",
      "|               1|    Thick Fat|     NULL|          NULL| 100.0|          281.0|           70.0|      45.0|  123.0|      20.0|     Grass|   Monster|         1|Medium Slow|     2.4|80.0|           0|          0|               0|   Mega Venusaur|           87.5|             3|    122.0|     120.0|       Seed Pokémon| 80.0|       625.0| Grass|Poison|    155.5|\n",
      "|               2|        Blaze|     NULL|   Solar Power|  52.0|           62.0|           70.0|      45.0|   43.0|      20.0|    Dragon|   Monster|         1|Medium Slow|     0.6|39.0|           0|          0|               0|      Charmander|           87.5|             4|     60.0|      50.0|     Lizard Pokémon| 65.0|       309.0|  Fire|  NULL|      8.5|\n",
      "|               2|        Blaze|     NULL|   Solar Power|  64.0|          142.0|           70.0|      45.0|   58.0|      20.0|    Dragon|   Monster|         1|Medium Slow|     1.1|58.0|           0|          0|               0|      Charmeleon|           87.5|             5|     80.0|      65.0|      Flame Pokémon| 80.0|       405.0|  Fire|  NULL|     19.0|\n",
      "|               2|        Blaze|     NULL|   Solar Power|  84.0|          240.0|           70.0|      45.0|   78.0|      20.0|    Dragon|   Monster|         1|Medium Slow|     1.7|78.0|           0|          0|               0|       Charizard|           87.5|             6|    109.0|      85.0|      Flame Pokémon|100.0|       534.0|  Fire|Flying|     90.5|\n",
      "|               1|  Tough Claws|     NULL|          NULL| 130.0|          285.0|           70.0|      45.0|  111.0|      20.0|    Dragon|   Monster|         1|Medium Slow|     1.7|78.0|           0|          0|               0|Mega Charizard X|           87.5|             6|    130.0|      85.0|      Flame Pokémon|100.0|       634.0|  Fire|Dragon|    110.5|\n",
      "|               1|      Drought|     NULL|          NULL| 104.0|          285.0|           70.0|      45.0|   78.0|      20.0|    Dragon|   Monster|         1|Medium Slow|     1.7|78.0|           0|          0|               0|Mega Charizard Y|           87.5|             6|    159.0|     115.0|      Flame Pokémon|100.0|       634.0|  Fire|Flying|    100.5|\n",
      "|               2|      Torrent|     NULL|     Rain Dish|  48.0|           63.0|           70.0|      45.0|   65.0|      20.0|   Monster|   Water 1|         1|Medium Slow|     0.5|44.0|           0|          0|               0|        Squirtle|           87.5|             7|     50.0|      64.0|Tiny Turtle Pokémon| 43.0|       314.0| Water|  NULL|      9.0|\n",
      "|               2|      Torrent|     NULL|     Rain Dish|  63.0|          142.0|           70.0|      45.0|   80.0|      20.0|   Monster|   Water 1|         1|Medium Slow|     1.0|59.0|           0|          0|               0|       Wartortle|           87.5|             8|     65.0|      80.0|     Turtle Pokémon| 58.0|       405.0| Water|  NULL|     22.5|\n",
      "|               2|      Torrent|     NULL|     Rain Dish|  83.0|          239.0|           70.0|      45.0|  100.0|      20.0|   Monster|   Water 1|         1|Medium Slow|     1.6|79.0|           0|          0|               0|       Blastoise|           87.5|             9|     85.0|     105.0|  Shellfish Pokémon| 78.0|       530.0| Water|  NULL|     85.5|\n",
      "|               1|Mega Launcher|     NULL|          NULL| 103.0|          284.0|           70.0|      45.0|  120.0|      20.0|   Monster|   Water 1|         1|Medium Slow|     1.6|79.0|           0|          0|               0|  Mega Blastoise|           87.5|             9|    135.0|     115.0|  Shellfish Pokémon| 78.0|       630.0| Water|  NULL|    101.1|\n",
      "|               2|  Shield Dust|     NULL|      Run Away|  30.0|           39.0|           70.0|     255.0|   35.0|      15.0|       Bug|      NULL|         1|Medium Fast|     0.3|45.0|           0|          0|               0|        Caterpie|           50.0|            10|     20.0|      20.0|       Worm Pokémon| 45.0|       195.0|   Bug|  NULL|      2.9|\n",
      "|               1|    Shed Skin|     NULL|          NULL|  20.0|           72.0|           70.0|     120.0|   55.0|      15.0|       Bug|      NULL|         1|Medium Fast|     0.7|50.0|           0|          0|               0|         Metapod|           50.0|            11|     25.0|      25.0|     Cocoon Pokémon| 30.0|       205.0|   Bug|  NULL|      9.9|\n",
      "+----------------+-------------+---------+--------------+------+---------------+---------------+----------+-------+----------+----------+----------+----------+-----------+--------+----+------------+-----------+----------------+----------------+---------------+--------------+---------+----------+-------------------+-----+------------+------+------+---------+\n",
      "only showing top 15 rows\n",
      "\n"
     ]
    }
   ],
   "source": [
    "#drop\n",
    "pokemon_spark.drop('_c0','egg_type_number','type_number').show(15)"
   ]
  },
  {
   "cell_type": "code",
   "execution_count": 15,
   "metadata": {},
   "outputs": [
    {
     "name": "stdout",
     "output_type": "stream",
     "text": [
      "+----------------+--------------+------+------+------+-------+-----------+\n",
      "|            name|       species|type_1|type_2|attack|defense|growth_rate|\n",
      "+----------------+--------------+------+------+------+-------+-----------+\n",
      "|       Bulbasaur|  Seed Pokémon| Grass|Poison|  49.0|   49.0|Medium Slow|\n",
      "|         Ivysaur|  Seed Pokémon| Grass|Poison|  62.0|   63.0|Medium Slow|\n",
      "|        Venusaur|  Seed Pokémon| Grass|Poison|  82.0|   83.0|Medium Slow|\n",
      "|   Mega Venusaur|  Seed Pokémon| Grass|Poison| 100.0|  123.0|Medium Slow|\n",
      "|      Charmander|Lizard Pokémon|  Fire|  NULL|  52.0|   43.0|Medium Slow|\n",
      "|      Charmeleon| Flame Pokémon|  Fire|  NULL|  64.0|   58.0|Medium Slow|\n",
      "|       Charizard| Flame Pokémon|  Fire|Flying|  84.0|   78.0|Medium Slow|\n",
      "|Mega Charizard X| Flame Pokémon|  Fire|Dragon| 130.0|  111.0|Medium Slow|\n",
      "+----------------+--------------+------+------+------+-------+-----------+\n",
      "only showing top 8 rows\n",
      "\n"
     ]
    }
   ],
   "source": [
    "#select\n",
    "pokemon_spark.select('name','species','type_1','type_2','attack','defense','growth_rate').show(8)"
   ]
  },
  {
   "cell_type": "code",
   "execution_count": 18,
   "metadata": {},
   "outputs": [
    {
     "name": "stdout",
     "output_type": "stream",
     "text": [
      "+----------------+-------------------+------+------+-----------+--------------+-----------+\n",
      "|            nome|            species|type_1|type_2|    ability|ability_hidden|growth_rate|\n",
      "+----------------+-------------------+------+------+-----------+--------------+-----------+\n",
      "|       Bulbasaur|       Seed Pokémon| Grass|Poison|   Overgrow|   Chlorophyll|Medium Slow|\n",
      "|         Ivysaur|       Seed Pokémon| Grass|Poison|   Overgrow|   Chlorophyll|Medium Slow|\n",
      "|        Venusaur|       Seed Pokémon| Grass|Poison|   Overgrow|   Chlorophyll|Medium Slow|\n",
      "|   Mega Venusaur|       Seed Pokémon| Grass|Poison|  Thick Fat|          NULL|Medium Slow|\n",
      "|      Charmander|     Lizard Pokémon|  Fire|  NULL|      Blaze|   Solar Power|Medium Slow|\n",
      "|      Charmeleon|      Flame Pokémon|  Fire|  NULL|      Blaze|   Solar Power|Medium Slow|\n",
      "|       Charizard|      Flame Pokémon|  Fire|Flying|      Blaze|   Solar Power|Medium Slow|\n",
      "|Mega Charizard X|      Flame Pokémon|  Fire|Dragon|Tough Claws|          NULL|Medium Slow|\n",
      "|Mega Charizard Y|      Flame Pokémon|  Fire|Flying|    Drought|          NULL|Medium Slow|\n",
      "|        Squirtle|Tiny Turtle Pokémon| Water|  NULL|    Torrent|     Rain Dish|Medium Slow|\n",
      "|       Wartortle|     Turtle Pokémon| Water|  NULL|    Torrent|     Rain Dish|Medium Slow|\n",
      "+----------------+-------------------+------+------+-----------+--------------+-----------+\n",
      "only showing top 11 rows\n",
      "\n"
     ]
    }
   ],
   "source": [
    "#rename\n",
    "pokemon_spark.select('name','species','type_1','type_2','ability_1',\n",
    "                     'ability_hidden','growth_rate').withColumnRenamed('name', 'nome').withColumnRenamed('ability_1', 'ability').show(11)"
   ]
  },
  {
   "cell_type": "code",
   "execution_count": 19,
   "metadata": {},
   "outputs": [
    {
     "name": "stdout",
     "output_type": "stream",
     "text": [
      "+----------------+--------------+------+------+-----------+--------------+\n",
      "|            name|       species|type_1|type_2|growth_rate|max_generation|\n",
      "+----------------+--------------+------+------+-----------+--------------+\n",
      "|       Bulbasaur|  Seed Pokémon| Grass|Poison|Medium Slow|            7ª|\n",
      "|         Ivysaur|  Seed Pokémon| Grass|Poison|Medium Slow|            7ª|\n",
      "|        Venusaur|  Seed Pokémon| Grass|Poison|Medium Slow|            7ª|\n",
      "|   Mega Venusaur|  Seed Pokémon| Grass|Poison|Medium Slow|            7ª|\n",
      "|      Charmander|Lizard Pokémon|  Fire|  NULL|Medium Slow|            7ª|\n",
      "|      Charmeleon| Flame Pokémon|  Fire|  NULL|Medium Slow|            7ª|\n",
      "|       Charizard| Flame Pokémon|  Fire|Flying|Medium Slow|            7ª|\n",
      "|Mega Charizard X| Flame Pokémon|  Fire|Dragon|Medium Slow|            7ª|\n",
      "|Mega Charizard Y| Flame Pokémon|  Fire|Flying|Medium Slow|            7ª|\n",
      "+----------------+--------------+------+------+-----------+--------------+\n",
      "only showing top 9 rows\n",
      "\n"
     ]
    }
   ],
   "source": [
    "#criando coluna com valor fixo\n",
    "import pyspark.sql.functions as F\n",
    "from pyspark.sql.functions import col, lit, when\n",
    "\n",
    "pokemon_spark.select('name','species','type_1',\n",
    "                     'type_2','growth_rate').withColumn('max_generation', lit('7ª')).show(9)"
   ]
  },
  {
   "cell_type": "code",
   "execution_count": 20,
   "metadata": {},
   "outputs": [
    {
     "name": "stdout",
     "output_type": "stream",
     "text": [
      "+----------------+-------------------+------+-------+-----------+--------------+\n",
      "|            name|            species|attack|defense|growth_rate|attack/defense|\n",
      "+----------------+-------------------+------+-------+-----------+--------------+\n",
      "|       Bulbasaur|       Seed Pokémon|  49.0|   49.0|Medium Slow|           1.0|\n",
      "|         Ivysaur|       Seed Pokémon|  62.0|   63.0|Medium Slow|           1.0|\n",
      "|        Venusaur|       Seed Pokémon|  82.0|   83.0|Medium Slow|           1.0|\n",
      "|   Mega Venusaur|       Seed Pokémon| 100.0|  123.0|Medium Slow|           0.8|\n",
      "|      Charmander|     Lizard Pokémon|  52.0|   43.0|Medium Slow|           1.2|\n",
      "|      Charmeleon|      Flame Pokémon|  64.0|   58.0|Medium Slow|           1.1|\n",
      "|       Charizard|      Flame Pokémon|  84.0|   78.0|Medium Slow|           1.1|\n",
      "|Mega Charizard X|      Flame Pokémon| 130.0|  111.0|Medium Slow|           1.2|\n",
      "|Mega Charizard Y|      Flame Pokémon| 104.0|   78.0|Medium Slow|           1.3|\n",
      "|        Squirtle|Tiny Turtle Pokémon|  48.0|   65.0|Medium Slow|           0.7|\n",
      "|       Wartortle|     Turtle Pokémon|  63.0|   80.0|Medium Slow|           0.8|\n",
      "|       Blastoise|  Shellfish Pokémon|  83.0|  100.0|Medium Slow|           0.8|\n",
      "+----------------+-------------------+------+-------+-----------+--------------+\n",
      "only showing top 12 rows\n",
      "\n"
     ]
    }
   ],
   "source": [
    "#criando coluna com 'dependencia'\n",
    "pokemon_spark.select('name','species','attack',\n",
    "                     'defense','growth_rate').withColumn('attack/defense',F.round(col('attack')/col('defense'),1)).show(12)"
   ]
  },
  {
   "cell_type": "code",
   "execution_count": 21,
   "metadata": {},
   "outputs": [
    {
     "name": "stdout",
     "output_type": "stream",
     "text": [
      "+----------------+--------------+------+------+-----------+--------------+\n",
      "|            name|       species|type_1|type_2|growth_rate|          type|\n",
      "+----------------+--------------+------+------+-----------+--------------+\n",
      "|       Bulbasaur|  Seed Pokémon| Grass|Poison|Medium Slow|Grass - Poison|\n",
      "|         Ivysaur|  Seed Pokémon| Grass|Poison|Medium Slow|Grass - Poison|\n",
      "|        Venusaur|  Seed Pokémon| Grass|Poison|Medium Slow|Grass - Poison|\n",
      "|   Mega Venusaur|  Seed Pokémon| Grass|Poison|Medium Slow|Grass - Poison|\n",
      "|      Charmander|Lizard Pokémon|  Fire|  NULL|Medium Slow|          NULL|\n",
      "|      Charmeleon| Flame Pokémon|  Fire|  NULL|Medium Slow|          NULL|\n",
      "|       Charizard| Flame Pokémon|  Fire|Flying|Medium Slow| Fire - Flying|\n",
      "|Mega Charizard X| Flame Pokémon|  Fire|Dragon|Medium Slow| Fire - Dragon|\n",
      "+----------------+--------------+------+------+-----------+--------------+\n",
      "only showing top 8 rows\n",
      "\n"
     ]
    }
   ],
   "source": [
    "#criando coluna concatenada\n",
    "pokemon_spark.select('name','species','type_1',\n",
    "                     'type_2','growth_rate').withColumn('type', F.concat(F.col('type_1'), F.lit(' - '), F.col('type_2'))).show(8)\n"
   ]
  },
  {
   "cell_type": "code",
   "execution_count": 23,
   "metadata": {},
   "outputs": [
    {
     "name": "stdout",
     "output_type": "stream",
     "text": [
      "+-------------+--------------+------+-------+-----------+--------------+\n",
      "|         name|       species|attack|defense|growth_rate|attack/defense|\n",
      "+-------------+--------------+------+-------+-----------+--------------+\n",
      "|    Bulbasaur|  Seed Pokémon|  49.0|   49.0|Medium Slow|           1.0|\n",
      "|      Ivysaur|  Seed Pokémon|  62.0|   63.0|Medium Slow|           1.0|\n",
      "|     Venusaur|  Seed Pokémon|  82.0|   83.0|Medium Slow|           1.0|\n",
      "|Mega Venusaur|  Seed Pokémon| 100.0|  123.0|Medium Slow|           0.8|\n",
      "|   Charmander|Lizard Pokémon|  52.0|   43.0|Medium Slow|           1.2|\n",
      "+-------------+--------------+------+-------+-----------+--------------+\n",
      "only showing top 5 rows\n",
      "\n",
      "None\n",
      "+-------------+--------------+------+-------+-----------+--------------+-----------+\n",
      "|         name|       species|attack|defense|growth_rate|attack/defense|      forte|\n",
      "+-------------+--------------+------+-------+-----------+--------------+-----------+\n",
      "|    Bulbasaur|  Seed Pokémon|  49.0|   49.0|Medium Slow|           1.0|equilibrado|\n",
      "|      Ivysaur|  Seed Pokémon|  62.0|   63.0|Medium Slow|           1.0|equilibrado|\n",
      "|     Venusaur|  Seed Pokémon|  82.0|   83.0|Medium Slow|           1.0|equilibrado|\n",
      "|Mega Venusaur|  Seed Pokémon| 100.0|  123.0|Medium Slow|           0.8|     defesa|\n",
      "|   Charmander|Lizard Pokémon|  52.0|   43.0|Medium Slow|           1.2|     ataque|\n",
      "+-------------+--------------+------+-------+-----------+--------------+-----------+\n",
      "only showing top 5 rows\n",
      "\n"
     ]
    }
   ],
   "source": [
    "#criando coluna condicional\n",
    "pokemon_filtro=pokemon_spark.select('name','species','attack',\n",
    "                     'defense','growth_rate').withColumn('attack/defense',F.round(col('attack')/col('defense'),1))\n",
    "print(pokemon_filtro.show(5))\n",
    "pokemon_filtro.withColumn('forte',\n",
    "                                        when(col('attack/defense')>1,'ataque')\n",
    "                                       .when(col('attack/defense')<1,'defesa')\n",
    "                                       .otherwise('equilibrado')).show(5)"
   ]
  },
  {
   "cell_type": "code",
   "execution_count": 24,
   "metadata": {},
   "outputs": [
    {
     "name": "stdout",
     "output_type": "stream",
     "text": [
      "+----------------+------------------+------+------+-----------+\n",
      "|            name|           species|type_1|type_2|growth_rate|\n",
      "+----------------+------------------+------+------+-----------+\n",
      "|          Gastly|       Gas Pokémon| Ghost|Poison|Medium Slow|\n",
      "|         Haunter|       Gas Pokémon| Ghost|Poison|Medium Slow|\n",
      "|          Gengar|    Shadow Pokémon| Ghost|Poison|Medium Slow|\n",
      "|     Mega Gengar|    Shadow Pokémon| Ghost|Poison|Medium Slow|\n",
      "|      Misdreavus|   Screech Pokémon| Ghost|  NULL|       Fast|\n",
      "|Galarian Corsola|     Coral Pokémon| Ghost|  NULL|       Fast|\n",
      "|         Shuppet|    Puppet Pokémon| Ghost|  NULL|       Fast|\n",
      "|         Banette|Marionette Pokémon| Ghost|  NULL|       Fast|\n",
      "|    Mega Banette|Marionette Pokémon| Ghost|  NULL|       Fast|\n",
      "|         Duskull|   Requiem Pokémon| Ghost|  NULL|       Fast|\n",
      "+----------------+------------------+------+------+-----------+\n",
      "only showing top 10 rows\n",
      "\n"
     ]
    }
   ],
   "source": [
    "#filtro\n",
    "pokemon_spark.select('name','species','type_1',\n",
    "                     'type_2','growth_rate').filter(col('type_1')=='Ghost').show(10)"
   ]
  },
  {
   "cell_type": "code",
   "execution_count": 25,
   "metadata": {},
   "outputs": [
    {
     "name": "stdout",
     "output_type": "stream",
     "text": [
      "+--------------+-------------------+------+-------+-----------+\n",
      "|          name|            species|attack|defense|growth_rate|\n",
      "+--------------+-------------------+------+-------+-----------+\n",
      "| Mega Mewtwo X|    Genetic Pokémon| 190.0|  100.0|       Slow|\n",
      "|Mega Heracross|Single Horn Pokémon| 185.0|  115.0|       Slow|\n",
      "|       Kartana|Drawn Sword Pokémon| 181.0|  131.0|       Slow|\n",
      "+--------------+-------------------+------+-------+-----------+\n",
      "\n"
     ]
    }
   ],
   "source": [
    "pokemon_spark.select('name','species','attack',\n",
    "                     'defense','growth_rate').filter(col('attack')>180).show(10)"
   ]
  },
  {
   "cell_type": "code",
   "execution_count": 26,
   "metadata": {},
   "outputs": [
    {
     "name": "stdout",
     "output_type": "stream",
     "text": [
      "+--------------+-------------------+------+-------+-----------+\n",
      "|          name|            species|attack|defense|growth_rate|\n",
      "+--------------+-------------------+------+-------+-----------+\n",
      "| Mega Mewtwo X|    Genetic Pokémon| 190.0|  100.0|       Slow|\n",
      "|Mega Heracross|Single Horn Pokémon| 185.0|  115.0|       Slow|\n",
      "|       Kartana|Drawn Sword Pokémon| 181.0|  131.0|       Slow|\n",
      "+--------------+-------------------+------+-------+-----------+\n",
      "\n"
     ]
    }
   ],
   "source": [
    "pokemon_spark.select('name','species','attack',\n",
    "                     'defense','growth_rate').filter(\"attack>180\").show(10)"
   ]
  },
  {
   "cell_type": "code",
   "execution_count": 27,
   "metadata": {},
   "outputs": [
    {
     "name": "stdout",
     "output_type": "stream",
     "text": [
      "+----------------+------------------+------+------+-----------+\n",
      "|            name|           species|type_1|type_2|growth_rate|\n",
      "+----------------+------------------+------+------+-----------+\n",
      "|          Gastly|       Gas Pokémon| Ghost|Poison|Medium Slow|\n",
      "|         Haunter|       Gas Pokémon| Ghost|Poison|Medium Slow|\n",
      "|          Gengar|    Shadow Pokémon| Ghost|Poison|Medium Slow|\n",
      "|     Mega Gengar|    Shadow Pokémon| Ghost|Poison|Medium Slow|\n",
      "|      Misdreavus|   Screech Pokémon| Ghost|  NULL|       Fast|\n",
      "|Galarian Corsola|     Coral Pokémon| Ghost|  NULL|       Fast|\n",
      "|         Shuppet|    Puppet Pokémon| Ghost|  NULL|       Fast|\n",
      "|         Banette|Marionette Pokémon| Ghost|  NULL|       Fast|\n",
      "|    Mega Banette|Marionette Pokémon| Ghost|  NULL|       Fast|\n",
      "|         Duskull|   Requiem Pokémon| Ghost|  NULL|       Fast|\n",
      "+----------------+------------------+------+------+-----------+\n",
      "only showing top 10 rows\n",
      "\n"
     ]
    }
   ],
   "source": [
    "pokemon_spark.select('name','species','type_1',\n",
    "                     'type_2','growth_rate').filter(\"type_1=='Ghost'\").show(10)"
   ]
  },
  {
   "cell_type": "code",
   "execution_count": 28,
   "metadata": {},
   "outputs": [
    {
     "name": "stdout",
     "output_type": "stream",
     "text": [
      "+--------+-----------------+------+------+-----------+------+\n",
      "|    name|          species|type_1|type_2|growth_rate|attack|\n",
      "+--------+-----------------+------+------+-----------+------+\n",
      "|  Gastly|      Gas Pokémon| Ghost|Poison|Medium Slow|  35.0|\n",
      "| Duskull|  Requiem Pokémon| Ghost|  NULL|       Fast|  40.0|\n",
      "|  Yamask|   Spirit Pokémon| Ghost|  NULL|Medium Fast|  30.0|\n",
      "| Litwick|   Candle Pokémon| Ghost|  Fire|Medium Slow|  30.0|\n",
      "| Lampent|     Lamp Pokémon| Ghost|  Fire|Medium Slow|  40.0|\n",
      "|Sinistea|Black Tea Pokémon| Ghost|  NULL|Medium Fast|  45.0|\n",
      "+--------+-----------------+------+------+-----------+------+\n",
      "\n"
     ]
    }
   ],
   "source": [
    "pokemon_spark.select('name','species','type_1',\n",
    "                     'type_2','growth_rate','attack').filter((col('type_1')=='Ghost')&(col('attack')<50)).show(10)"
   ]
  },
  {
   "cell_type": "code",
   "execution_count": 29,
   "metadata": {},
   "outputs": [
    {
     "data": {
      "text/plain": [
       "6"
      ]
     },
     "execution_count": 29,
     "metadata": {},
     "output_type": "execute_result"
    }
   ],
   "source": [
    "#contagem\n",
    "pokemon_spark.select('name','species','type_1',\n",
    "                     'type_2','growth_rate','attack').filter((col('type_1')=='Ghost')&(col('attack')<50)).count()"
   ]
  },
  {
   "cell_type": "code",
   "execution_count": 30,
   "metadata": {},
   "outputs": [],
   "source": [
    "spark.stop() #parada do ambiente spark"
   ]
  },
  {
   "cell_type": "code",
   "execution_count": null,
   "metadata": {},
   "outputs": [],
   "source": []
  }
 ],
 "metadata": {
  "kernelspec": {
   "display_name": "base",
   "language": "python",
   "name": "python3"
  },
  "language_info": {
   "codemirror_mode": {
    "name": "ipython",
    "version": 3
   },
   "file_extension": ".py",
   "mimetype": "text/x-python",
   "name": "python",
   "nbconvert_exporter": "python",
   "pygments_lexer": "ipython3",
   "version": "3.11.7"
  }
 },
 "nbformat": 4,
 "nbformat_minor": 2
}
