{
 "cells": [
  {
   "cell_type": "code",
   "execution_count": null,
   "metadata": {},
   "outputs": [],
   "source": [
    "import pandas as pd\n",
    "import requests "
   ]
  },
  {
   "cell_type": "code",
   "execution_count": null,
   "metadata": {},
   "outputs": [],
   "source": [
    "url = \"https://brasilapi.com.br/api/cvm/corretoras/v1\"\n",
    "response = requests.get(url)\n",
    "response"
   ]
  },
  {
   "cell_type": "code",
   "execution_count": null,
   "metadata": {},
   "outputs": [],
   "source": [
    "if response.status_code == 200:\n",
    "    data_json = response.json()\n",
    "else:\n",
    "    print(\"Erro ao acessar a API\")"
   ]
  },
  {
   "cell_type": "code",
   "execution_count": null,
   "metadata": {},
   "outputs": [],
   "source": [
    "data_json"
   ]
  },
  {
   "cell_type": "code",
   "execution_count": null,
   "metadata": {},
   "outputs": [],
   "source": [
    "pd.DataFrame(data_json)"
   ]
  },
  {
   "cell_type": "code",
   "execution_count": null,
   "metadata": {},
   "outputs": [],
   "source": [
    "url = \"https://brasilapi.com.br/api/ibge/municipios/v1\"\n",
    "response = requests.get(url)\n",
    "if response.status_code == 200:\n",
    "    data_json = response.json()\n",
    "else:\n",
    "    print(\"Erro ao acessar a API\")"
   ]
  },
  {
   "cell_type": "code",
   "execution_count": null,
   "metadata": {},
   "outputs": [],
   "source": [
    "response.status_code"
   ]
  },
  {
   "cell_type": "code",
   "execution_count": null,
   "metadata": {},
   "outputs": [],
   "source": [
    "url = \"https://brasilapi.com.br/api/ibge/uf/v1\"\n",
    "response = requests.get(url)\n",
    "if response.status_code == 200:\n",
    "    data_json = response.json()\n",
    "else:\n",
    "    print(\"Erro ao acessar a API\")\n",
    "pd.DataFrame(data_json)"
   ]
  },
  {
   "cell_type": "code",
   "execution_count": null,
   "metadata": {},
   "outputs": [],
   "source": [
    "pd.DataFrame(data_json)"
   ]
  },
  {
   "cell_type": "code",
   "execution_count": null,
   "metadata": {},
   "outputs": [],
   "source": [
    "url = \"https://brasilapi.com.br/api/taxas/v1\"\n",
    "response = requests.get(url)\n",
    "if response.status_code == 200:\n",
    "    data_json = response.json()\n",
    "else:\n",
    "    print(\"Erro ao acessar a API\")\n",
    "# pd.DataFrame(data_json)"
   ]
  },
  {
   "cell_type": "code",
   "execution_count": null,
   "metadata": {},
   "outputs": [],
   "source": [
    "pd.DataFrame(data_json)"
   ]
  },
  {
   "cell_type": "code",
   "execution_count": null,
   "metadata": {},
   "outputs": [],
   "source": [
    "# \n",
    "url = \"https://restcountries.com/v3.1/all\"\n",
    "response = requests.get(url)\n",
    "if response.status_code == 200:\n",
    "    data_json = response.json()\n",
    "else:\n",
    "    print(\"Erro ao acessar a API\")\n",
    "pd.DataFrame(data_json)"
   ]
  },
  {
   "cell_type": "code",
   "execution_count": null,
   "metadata": {},
   "outputs": [],
   "source": [
    "url = \"https://api.bcb.gov.br/dados/serie/bcdata.sgs.1/dados?formato=json\"\n",
    "response = requests.get(url)\n",
    "if response.status_code == 200:\n",
    "    data_json = response.json()\n",
    "else:\n",
    "    print(\"Erro ao acessar a API\")\n",
    "pd.DataFrame(data_json)"
   ]
  },
  {
   "cell_type": "code",
   "execution_count": null,
   "metadata": {},
   "outputs": [],
   "source": [
    "url = \"https://api.bcb.gov.br/dados/serie/bcdata.sgs.1207/dados?formato=json\"\n",
    "response = requests.get(url, verify=False)\n",
    "if response.status_code == 200:\n",
    "    data_json = response.json()\n",
    "else:\n",
    "    print(\"Erro ao acessar a API\")\n",
    "pd.DataFrame(data_json)"
   ]
  },
  {
   "cell_type": "code",
   "execution_count": null,
   "metadata": {},
   "outputs": [],
   "source": [
    "url = \"https://servicodados.ibge.gov.br/api/v2/censos/nomes/ranking\"\n",
    "response = requests.get(url)\n",
    "if response.status_code == 200:\n",
    "    data_json = response.json()\n",
    "else:\n",
    "    print(\"Erro ao acessar a API\")\n",
    "data_json"
   ]
  },
  {
   "cell_type": "code",
   "execution_count": null,
   "metadata": {},
   "outputs": [],
   "source": [
    "url = \"https://api.bcb.gov.br/dados/serie/bcdata.sgs.23079/dados?formato=json\"\n",
    "response = requests.get(url)\n",
    "if response.status_code == 200:\n",
    "    data_json = response.json()\n",
    "else:\n",
    "    print(\"Erro ao acessar a API\")\n",
    "pd.DataFrame(data_json)"
   ]
  },
  {
   "cell_type": "markdown",
   "metadata": {},
   "source": [
    "Exemplo Slide"
   ]
  },
  {
   "cell_type": "code",
   "execution_count": null,
   "metadata": {},
   "outputs": [],
   "source": [
    "url = \"https://restcountries.com/v3.1/all\"\n",
    "response = requests.get(url)\n",
    "if response.status_code == 200:\n",
    "    data_json = response.json()\n",
    "else:\n",
    "    print(\"Erro ao acessar a API\")\n",
    "paises_full=pd.DataFrame(data_json)\n",
    "paises_full"
   ]
  },
  {
   "cell_type": "code",
   "execution_count": null,
   "metadata": {},
   "outputs": [],
   "source": [
    "nome= [x ['common'] for x in paises_full['name']]\n",
    "region= [x for x in paises_full['region']]\n",
    "population= [x for x in paises_full['population']]"
   ]
  },
  {
   "cell_type": "code",
   "execution_count": null,
   "metadata": {},
   "outputs": [],
   "source": [
    "# Forma 1\n",
    "paises = pd.DataFrame({\n",
    "    'Nome':nome,\n",
    "    'Regiao':region,\n",
    "    'Populacao':population\n",
    "})\n",
    "paises"
   ]
  },
  {
   "cell_type": "code",
   "execution_count": null,
   "metadata": {},
   "outputs": [],
   "source": [
    "# Forma 2\n",
    "paises = pd.DataFrame({\n",
    "    'Nome':nome,\n",
    "    'Regiao':paises_full.region,\n",
    "    'Populacao':paises_full.population\n",
    "})\n",
    "paises"
   ]
  },
  {
   "cell_type": "markdown",
   "metadata": {},
   "source": [
    "# List Comprehension\n",
    "\n",
    "Trata-se de uma forma reduzida de um loop for.\n",
    "\n",
    "Uma list comprehension tem o seguinte formato:\n",
    "\n",
    "lista= [x for x in data]\n",
    "\n",
    "\n",
    "onde:\n",
    "\n",
    "x = iterável \n",
    "\n",
    "data = lista ou série iteradora\n",
    "\n",
    "\n",
    "\n",
    "O resultado sempre será uma lista.\n",
    "\n",
    "Deve ser usado para operações simples assim como a função lambda que aprendemos em sala de aula.\n",
    "\n",
    "Trazendo para a forma que conhecemos a estrutura acima ficaria assim:\n",
    "\n",
    "lista = []\n",
    "\n",
    "for x in data: lista.append(x)"
   ]
  },
  {
   "cell_type": "code",
   "execution_count": null,
   "metadata": {},
   "outputs": [],
   "source": [
    "#Exemplo 1\n",
    "[x for x in range(10)]"
   ]
  },
  {
   "cell_type": "code",
   "execution_count": null,
   "metadata": {},
   "outputs": [],
   "source": [
    "#Exemplo 2\n",
    "[x**2 for x in range(10)]"
   ]
  },
  {
   "cell_type": "code",
   "execution_count": null,
   "metadata": {},
   "outputs": [],
   "source": [
    "#Exemplo 3\n",
    "fruits = [\"apple\", \"banana\", \"cherry\", \"kiwi\", \"mango\"]\n",
    "\n",
    "[x for x in fruits]"
   ]
  },
  {
   "cell_type": "code",
   "execution_count": null,
   "metadata": {},
   "outputs": [],
   "source": [
    "#Exemplo 4\n",
    "[x.capitalize() for x in fruits]"
   ]
  }
 ],
 "metadata": {
  "kernelspec": {
   "display_name": "base",
   "language": "python",
   "name": "python3"
  },
  "language_info": {
   "codemirror_mode": {
    "name": "ipython",
    "version": 3
   },
   "file_extension": ".py",
   "mimetype": "text/x-python",
   "name": "python",
   "nbconvert_exporter": "python",
   "pygments_lexer": "ipython3",
   "version": "3.11.7"
  }
 },
 "nbformat": 4,
 "nbformat_minor": 2
}
